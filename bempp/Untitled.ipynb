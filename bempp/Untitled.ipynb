{
 "cells": [
  {
   "cell_type": "code",
   "execution_count": 4,
   "metadata": {},
   "outputs": [
    {
     "name": "stdout",
     "output_type": "stream",
     "text": [
      "Help on function single_layer in module bempp.api.operators.potential.helmholtz:\n",
      "\n",
      "single_layer(space, evaluation_points, wave_number, parameters=None)\n",
      "    Return the Helmholtz single-layer potential operator\n",
      "    \n",
      "    Parameters\n",
      "    ----------\n",
      "    space : bempp.api.space.Space\n",
      "        The function space over which to assemble the potential.\n",
      "    evaluation_points : numpy.ndarray\n",
      "        A (3 x N) array of N evaluation points, where each column corresponds to\n",
      "        the coordinates of one evaluation point.\n",
      "    wave_number : complex\n",
      "        Wavenumber of the operator.\n",
      "    parameters : bempp.api.common.ParameterList\n",
      "        Parameters for the operator. If none given\n",
      "        the default global parameter object\n",
      "        `bempp.api.global_parameters` is used.\n",
      "\n",
      "[[ 0.55430313]\n",
      " [ 0.75258403]\n",
      " [ 0.76711868]\n",
      " [ 0.41948299]\n",
      " [ 0.72923791]\n",
      " [ 0.20993802]\n",
      " [ 0.05534651]\n",
      " [ 0.0842607 ]\n",
      " [ 0.11930586]\n",
      " [ 0.00179533]]\n",
      "[[ 0.66020146]]\n"
     ]
    }
   ],
   "source": [
    "import numpy as np\n",
    "    \n",
    "import bempp.api\n",
    "#from bempp.api.linalg.iterative_solvers import gmres\n",
    "from scipy.sparse.linalg import gmres \n",
    "from scipy.sparse.linalg import norm\n",
    "bempp.api.PLOT_BACKEND = \"ipython_notebook\"\n",
    "\n",
    "\n",
    "#help(bempp.api.operators.boundary.helmholtz.adjoint_double_layer)\n",
    "help(bempp.api.operators.potential.helmholtz.single_layer)\n",
    "\n",
    "#coefficients=np.polyfit([-0.5,1], [np.sqrt(3)/2,0], 1)\n",
    "#print(\"koeficijenti su {0} i {1}\",coefficients[0],coefficients[1])\n",
    "\n",
    "x = np.random.rand(10,1)\n",
    "y = np.random.rand(10,1)\n",
    "print(x**2)\n",
    "print(np.dot(x.T, y)/np.dot(y.T, y))"
   ]
  },
  {
   "cell_type": "code",
   "execution_count": null,
   "metadata": {
    "collapsed": true
   },
   "outputs": [],
   "source": []
  },
  {
   "cell_type": "code",
   "execution_count": null,
   "metadata": {
    "collapsed": true
   },
   "outputs": [],
   "source": []
  }
 ],
 "metadata": {
  "kernelspec": {
   "display_name": "Python 3",
   "language": "python",
   "name": "python3"
  },
  "language_info": {
   "codemirror_mode": {
    "name": "ipython",
    "version": 3
   },
   "file_extension": ".py",
   "mimetype": "text/x-python",
   "name": "python",
   "nbconvert_exporter": "python",
   "pygments_lexer": "ipython3",
   "version": "3.5.2"
  }
 },
 "nbformat": 4,
 "nbformat_minor": 2
}
