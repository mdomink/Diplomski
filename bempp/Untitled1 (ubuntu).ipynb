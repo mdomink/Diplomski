{
 "cells": [
  {
   "cell_type": "code",
   "execution_count": 43,
   "metadata": {},
   "outputs": [
    {
     "data": {
      "application/vnd.jupyter.widget-view+json": {
       "model_id": "9ba7a24c800b4fcb80ec0ebd55e91e20",
       "version_major": 2,
       "version_minor": 0
      },
      "text/plain": [
       "A Jupyter Widget"
      ]
     },
     "metadata": {},
     "output_type": "display_data"
    },
    {
     "data": {
      "application/vnd.jupyter.widget-view+json": {
       "model_id": "464366fb9361471c9685212214ac006d",
       "version_major": 2,
       "version_minor": 0
      },
      "text/plain": [
       "A Jupyter Widget"
      ]
     },
     "metadata": {},
     "output_type": "display_data"
    },
    {
     "data": {
      "application/vnd.jupyter.widget-view+json": {
       "model_id": "24003542f0b042f3a43be70a8667678f",
       "version_major": 2,
       "version_minor": 0
      },
      "text/plain": [
       "A Jupyter Widget"
      ]
     },
     "metadata": {},
     "output_type": "display_data"
    },
    {
     "data": {
      "application/vnd.jupyter.widget-view+json": {
       "model_id": "fcf88e8d2f9d4cd5bf841953bc2c16e8",
       "version_major": 2,
       "version_minor": 0
      },
      "text/plain": [
       "A Jupyter Widget"
      ]
     },
     "metadata": {},
     "output_type": "display_data"
    },
    {
     "data": {
      "application/vnd.jupyter.widget-view+json": {
       "model_id": "15119e6590b74f8c89159fe583b61e5c",
       "version_major": 2,
       "version_minor": 0
      },
      "text/plain": [
       "A Jupyter Widget"
      ]
     },
     "metadata": {},
     "output_type": "display_data"
    }
   ],
   "source": [
    "import bempp.api\n",
    "import numpy as np\n",
    "\n",
    "def fun(x, normal, domain_index, result):\n",
    "    result[0] = 1./(4 * np.pi * ((x[0] - .5)**2 + (x[1]- .5)**2 + (x[2] - .5)**2)**(0.5))\n",
    "\n",
    "vertices = np.array([[0,1,1,0,0,1,1,0],\n",
    "                     [0,0,1,1,0,0,1,1],\n",
    "                     [0,0,0,0,1,1,1,1]])\n",
    "\n",
    "elements= np.array([[0,1,0,1,0,0,4,5,1,1],\n",
    "                    [1,2,1,4,4,3,5,7,5,2],\n",
    "                    [3,3,4,5,7,7,7,6,6,6]])\n",
    "\n",
    "grid=bempp.api.grid_from_element_data(vertices, elements)\n",
    "grid.plot()\n",
    "space=bempp.api.function_space(grid,\"P\",1)\n",
    "grid_fun = bempp.api.GridFunction(space, fun=fun)\n",
    "grid_fun.plot()"
   ]
  },
  {
   "cell_type": "code",
   "execution_count": null,
   "metadata": {
    "collapsed": true
   },
   "outputs": [],
   "source": []
  }
 ],
 "metadata": {
  "kernelspec": {
   "display_name": "Python 3",
   "language": "python",
   "name": "python3"
  },
  "language_info": {
   "codemirror_mode": {
    "name": "ipython",
    "version": 3
   },
   "file_extension": ".py",
   "mimetype": "text/x-python",
   "name": "python",
   "nbconvert_exporter": "python",
   "pygments_lexer": "ipython3",
   "version": "3.5.2"
  }
 },
 "nbformat": 4,
 "nbformat_minor": 2
}
