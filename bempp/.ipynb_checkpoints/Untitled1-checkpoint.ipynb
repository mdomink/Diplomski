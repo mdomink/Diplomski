{
 "cells": [
  {
   "cell_type": "code",
   "execution_count": 6,
   "metadata": {
    "scrolled": false
   },
   "outputs": [
    {
     "data": {
      "application/vnd.jupyter.widget-view+json": {
       "model_id": "67111b16e0b74275932f1ca4fd801e18",
       "version_major": 2,
       "version_minor": 0
      },
      "text/plain": [
       "A Jupyter Widget"
      ]
     },
     "metadata": {},
     "output_type": "display_data"
    },
    {
     "data": {
      "application/vnd.jupyter.widget-view+json": {
       "model_id": "242682f3bc274a3387285a54b47f32b3",
       "version_major": 2,
       "version_minor": 0
      },
      "text/plain": [
       "A Jupyter Widget"
      ]
     },
     "metadata": {},
     "output_type": "display_data"
    },
    {
     "data": {
      "application/vnd.jupyter.widget-view+json": {
       "model_id": "a06d294f5c5f47dba7f45dfafd7a8b34",
       "version_major": 2,
       "version_minor": 0
      },
      "text/plain": [
       "A Jupyter Widget"
      ]
     },
     "metadata": {},
     "output_type": "display_data"
    },
    {
     "ename": "NameError",
     "evalue": "name 'savefig' is not defined",
     "output_type": "error",
     "traceback": [
      "\u001b[0;31m---------------------------------------------------------------------------\u001b[0m",
      "\u001b[0;31mNameError\u001b[0m                                 Traceback (most recent call last)",
      "\u001b[0;32m<ipython-input-6-5231e0f3ccbb>\u001b[0m in \u001b[0;36m<module>\u001b[0;34m()\u001b[0m\n\u001b[1;32m     38\u001b[0m \u001b[0mgrid\u001b[0m \u001b[0;34m=\u001b[0m \u001b[0mbempp\u001b[0m\u001b[0;34m.\u001b[0m\u001b[0mapi\u001b[0m\u001b[0;34m.\u001b[0m\u001b[0mshapes\u001b[0m\u001b[0;34m.\u001b[0m\u001b[0mregular_sphere\u001b[0m\u001b[0;34m(\u001b[0m\u001b[0;36m3\u001b[0m\u001b[0;34m)\u001b[0m\u001b[0;34m\u001b[0m\u001b[0m\n\u001b[1;32m     39\u001b[0m \u001b[0mgrid\u001b[0m\u001b[0;34m.\u001b[0m\u001b[0mplot\u001b[0m\u001b[0;34m(\u001b[0m\u001b[0;34m)\u001b[0m\u001b[0;34m\u001b[0m\u001b[0m\n\u001b[0;32m---> 40\u001b[0;31m \u001b[0msavefig\u001b[0m\u001b[0;34m(\u001b[0m\u001b[0;34m'test.png'\u001b[0m\u001b[0;34m,\u001b[0m \u001b[0mbbox_inches\u001b[0m\u001b[0;34m=\u001b[0m\u001b[0;34m'tight'\u001b[0m\u001b[0;34m)\u001b[0m\u001b[0;34m\u001b[0m\u001b[0m\n\u001b[0m\u001b[1;32m     41\u001b[0m \u001b[0;34m\u001b[0m\u001b[0m\n",
      "\u001b[0;31mNameError\u001b[0m: name 'savefig' is not defined"
     ]
    }
   ],
   "source": [
    "import bempp.api\n",
    "import numpy as np\n",
    "\n",
    "bempp.api.PLOT_BACKEND = \"ipython_notebook\"\n",
    "\n",
    "\n",
    "\n",
    "'''def fun(x, normal, domain_index, result):    \n",
    "    result[0] =np.exp(1j*x[0])\n",
    "\n",
    "vertices=np.array([[0,1,2,1],\n",
    "                   [0,2,0,1],\n",
    "                   [0,0,0,2]])\n",
    "\n",
    "evaluation_points=np.array([[0,0,0,1],\n",
    "                            [1,1,2,2],\n",
    "                            [2,3,3,3]])\n",
    "\n",
    "element=np.array([[0],\n",
    "                  [0],\n",
    "                  [0]])\n",
    "\n",
    "#help(bempp.api.shapes)\n",
    "#grid=bempp.api.shapes.menger_sponge(h=10, level=2)\n",
    "#grid.plot()\n",
    "\n",
    "\n",
    "grid_1=bempp.api.grid_from_element_data(vertices,evaluation_points)\n",
    "#grid_1=bempp.api.shapes.koch_snowflake(0.1,2)\n",
    "\n",
    "space=bempp.api.function_space(grid_1,\"P\",3)\n",
    "number_of_global_dofs=space.global_dof_count\n",
    "coeffs=np.random.randn(number_of_global_dofs)\n",
    "gridFun=bempp.api.GridFunction(space, coefficients=coeffs)\n",
    "#gridFun.evaluate(element=1, local_coordinates=[1,1,1])\n",
    "gridFun.plot()'''\n",
    "\n",
    "grid = bempp.api.shapes.regular_sphere(3)\n",
    "grid.plot()\n",
    "grid.savefig('test.png', bbox_inches='tight')\n",
    "           "
   ]
  },
  {
   "cell_type": "code",
   "execution_count": null,
   "metadata": {
    "collapsed": true
   },
   "outputs": [],
   "source": []
  },
  {
   "cell_type": "code",
   "execution_count": null,
   "metadata": {
    "collapsed": true
   },
   "outputs": [],
   "source": []
  }
 ],
 "metadata": {
  "kernelspec": {
   "display_name": "Python 3",
   "language": "python",
   "name": "python3"
  },
  "language_info": {
   "codemirror_mode": {
    "name": "ipython",
    "version": 3
   },
   "file_extension": ".py",
   "mimetype": "text/x-python",
   "name": "python",
   "nbconvert_exporter": "python",
   "pygments_lexer": "ipython3",
   "version": "3.5.2"
  }
 },
 "nbformat": 4,
 "nbformat_minor": 2
}
