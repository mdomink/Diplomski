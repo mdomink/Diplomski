{
 "cells": [
  {
   "cell_type": "code",
   "execution_count": 1,
   "metadata": {
    "collapsed": true
   },
   "outputs": [],
   "source": [
    "import bempp.api\n",
    "import scipy.sparse.linalg as spla\n",
    "import numpy as np\n",
    "import datetime"
   ]
  },
  {
   "cell_type": "code",
   "execution_count": 2,
   "metadata": {
    "collapsed": true
   },
   "outputs": [],
   "source": [
    "class Timer(object):\n",
    "    \"\"\"A simple timer class\"\"\"\n",
    "    \n",
    "    def __init__(self):\n",
    "        pass\n",
    "    \n",
    "    def start(self):\n",
    "        \"\"\"Starts the timer\"\"\"\n",
    "        self.start = datetime.datetime.now()\n",
    "        return self.start\n",
    "    \n",
    "    def stop(self, message=\"Total: \"):\n",
    "        \"\"\"Stops the timer.  Returns the time elapsed\"\"\"\n",
    "        self.stop = datetime.datetime.now()\n",
    "        return message + str(self.stop - self.start)\n",
    "    \n",
    "    def now(self, message=\"Now: \"):\n",
    "        \"\"\"Returns the current time with a message\"\"\"\n",
    "        return message + \": \" + str(datetime.datetime.now())\n",
    "    \n",
    "    def elapsed(self, message=\"Elapsed: \"):\n",
    "        \"\"\"Time elapsed since start was called\"\"\"\n",
    "        return message + str(datetime.datetime.now() - self.start)\n",
    "    \n",
    "    def split(self, message=\"Split started at: \"):\n",
    "        \"\"\"Start a split timer\"\"\"\n",
    "        self.split_start = datetime.datetime.now()\n",
    "        return message + str(self.split_start)\n",
    "    \n",
    "    def unsplit(self, message=\"Unsplit: \"):\n",
    "        \"\"\"Stops a split. Returns the time elapsed since split was called\"\"\"\n",
    "        return message + str(datetime.datetime.now() - self.split_start)"
   ]
  },
  {
   "cell_type": "code",
   "execution_count": 30,
   "metadata": {
    "collapsed": true
   },
   "outputs": [],
   "source": [
    "k=5\n",
    "\n",
    "def fun(x, n, domain_index, result):    \n",
    "    result[0] =1j * k * np.exp(1j * k * x[0]) * (n[0]-1)\n",
    "\n",
    "def smallest_eigenvalue(operator, iteration = False):\n",
    "    '''Takes matrix and returns its smallest eigenvalue '''\n",
    "    print(\"smallest1\")\n",
    "    \n",
    "    #grid_fun = bempp.api.GridFunction(operator.domain, fun=fun)\n",
    "    #grid_fun.plot()\n",
    "    \n",
    "    #discrete_operator=bempp.api.as_matrix(operator.weak_form())\n",
    "    #discrete_operator=operator.weak_form()\n",
    "    discrete_operator=operator\n",
    "    print(\"smallest2\")\n",
    "    #discrete_operator=operator\n",
    "    random_vector = np.random.rand(3,1)\n",
    "    #random_vector = grid_fun.projections(operator.dual_to_range)\n",
    "    difference = 1;\n",
    "    norm_vector = 1;\n",
    "    \n",
    "    random_vector = random_vector/np.linalg.norm(random_vector) \n",
    "    #error \n",
    "    e = 0.0001;                    \n",
    "    c = []\n",
    "    koraci = [500]\n",
    "    i = 0\n",
    "    \n",
    "    if(iteration):\n",
    "        koraci = [10, 13, 15, 17, 20, 25, 30, 40, 50, 60, 70, 80, 100, 120 ,150]\n",
    "    print(\"smallest3\")    \n",
    "    while difference >= e:\n",
    "        i += 1\n",
    "        #x = np.linalg.solve(matrix, random_vector)\n",
    "        x, info = spla.gmres(discrete_operator, random_vector)\n",
    "        norm_vector = np.linalg.norm(x)\n",
    "\n",
    "        if(norm_vector != 0):\n",
    "            x = x/norm_vector\n",
    "        else:\n",
    "            return 0;\n",
    "\n",
    "        difference = np.linalg.norm(np.abs(random_vector)-np.abs(x))\n",
    "        #print(difference)\n",
    "        random_vector = x\n",
    "        old = x\n",
    "\n",
    "    c.append(1/norm_vector)\n",
    "    return c, i\n",
    "\n",
    "def smallest_eigenvalue_inverse(operator, iteration = False):\n",
    "    '''Takes matrix and returns its smallest eigenvalue '''\n",
    "    #print(matrix)\n",
    "    \n",
    "    #grid_fun = bempp.api.GridFunction(operator.domain, fun=fun)\n",
    "    #grid_fun.plot()\n",
    "    \n",
    "    discrete_operator=np.linalg.inv(bempp.api.as_matrix(operator.weak_form()))\n",
    "    #discrete_operator=operator\n",
    "    random_vector = np.random.rand(discrete_operator.shape[1],1)\n",
    "    difference = 1;\n",
    "    norm_vector = 1;\n",
    "    res = 1;\n",
    "    \n",
    "    random_vector = random_vector/np.linalg.norm(random_vector)\n",
    "    #error \n",
    "    e = 0.0001;                  \n",
    "    c = []\n",
    "    koraci = [500]\n",
    "    i = 0\n",
    "    \n",
    "    if(iteration):\n",
    "        koraci = [10, 13, 15, 17, 20, 25, 30, 40, 50, 60, 70, 80, 100, 120 ,150]\n",
    "        \n",
    "    while difference >= e:\n",
    "        i += 1\n",
    "        #x = np.linalg.solve(matrix, random_vector)\n",
    "        x = discrete_operator.dot(random_vector)\n",
    "        norm_vector = np.linalg.norm(x)\n",
    "        x /= norm_vector\n",
    "\n",
    "        difference = np.linalg.norm(np.abs(random_vector)-np.abs(x)) \n",
    "        random_vector = x \n",
    "\n",
    "    c.append(1/norm_vector)\n",
    "    return c, i"
   ]
  },
  {
   "cell_type": "code",
   "execution_count": 29,
   "metadata": {
    "scrolled": true
   },
   "outputs": [
    {
     "name": "stdout",
     "output_type": "stream",
     "text": [
      "3\n",
      "4\n",
      "5\n",
      "6\n",
      "7\n"
     ]
    },
    {
     "ename": "TypeError",
     "evalue": "unsupported operand type(s) for /: 'DiscontinuousPolynomialSpace' and 'complex'",
     "output_type": "error",
     "traceback": [
      "\u001b[0;31m---------------------------------------------------------------------------\u001b[0m",
      "\u001b[0;31mTypeError\u001b[0m                                 Traceback (most recent call last)",
      "\u001b[0;32m<ipython-input-29-b0033547e561>\u001b[0m in \u001b[0;36m<module>\u001b[0;34m()\u001b[0m\n\u001b[1;32m     21\u001b[0m \u001b[0;31m#laplace_discrete_form=laplace.weak_form()\u001b[0m\u001b[0;34m\u001b[0m\u001b[0;34m\u001b[0m\u001b[0m\n\u001b[1;32m     22\u001b[0m \u001b[0mspace\u001b[0m \u001b[0;34m=\u001b[0m \u001b[0mbempp\u001b[0m\u001b[0;34m.\u001b[0m\u001b[0mapi\u001b[0m\u001b[0;34m.\u001b[0m\u001b[0mfunction_space\u001b[0m\u001b[0;34m(\u001b[0m\u001b[0mgrids\u001b[0m\u001b[0;34m[\u001b[0m\u001b[0;36m0\u001b[0m\u001b[0;34m]\u001b[0m\u001b[0;34m,\u001b[0m\u001b[0;34m\"DP\"\u001b[0m\u001b[0;34m,\u001b[0m\u001b[0;36m0\u001b[0m\u001b[0;34m)\u001b[0m\u001b[0;34m\u001b[0m\u001b[0m\n\u001b[0;32m---> 23\u001b[0;31m \u001b[0mhelm\u001b[0m \u001b[0;34m=\u001b[0m \u001b[0mbempp\u001b[0m\u001b[0;34m.\u001b[0m\u001b[0mapi\u001b[0m\u001b[0;34m.\u001b[0m\u001b[0moperators\u001b[0m\u001b[0;34m.\u001b[0m\u001b[0mpotential\u001b[0m\u001b[0;34m.\u001b[0m\u001b[0mhelmholtz\u001b[0m\u001b[0;34m.\u001b[0m\u001b[0msingle_layer\u001b[0m\u001b[0;34m(\u001b[0m\u001b[0mspace\u001b[0m\u001b[0;34m,\u001b[0m\u001b[0mspace\u001b[0m\u001b[0;34m,\u001b[0m\u001b[0mspace\u001b[0m\u001b[0;34m,\u001b[0m\u001b[0mk\u001b[0m\u001b[0;34m)\u001b[0m\u001b[0;34m\u001b[0m\u001b[0m\n\u001b[0m\u001b[1;32m     24\u001b[0m \u001b[0;34m\u001b[0m\u001b[0m\n\u001b[1;32m     25\u001b[0m \u001b[0;31m#laplace_discrete=laplace.weak_form()\u001b[0m\u001b[0;34m\u001b[0m\u001b[0;34m\u001b[0m\u001b[0m\n",
      "\u001b[0;32m/usr/lib/python3/dist-packages/bempp/api/operators/potential/helmholtz.py\u001b[0m in \u001b[0;36msingle_layer\u001b[0;34m(space, evaluation_points, wave_number, parameters)\u001b[0m\n\u001b[1;32m     25\u001b[0m \u001b[0;34m\u001b[0m\u001b[0m\n\u001b[1;32m     26\u001b[0m     return slp(\n\u001b[0;32m---> 27\u001b[0;31m         space, evaluation_points, wave_number / (1j), parameters)\n\u001b[0m\u001b[1;32m     28\u001b[0m \u001b[0;34m\u001b[0m\u001b[0m\n\u001b[1;32m     29\u001b[0m \u001b[0;34m\u001b[0m\u001b[0m\n",
      "\u001b[0;31mTypeError\u001b[0m: unsupported operand type(s) for /: 'DiscontinuousPolynomialSpace' and 'complex'"
     ]
    }
   ],
   "source": [
    "M=np.matrix([[3,2,1],[0,1,1],[0,1,2]]); #test matrica\n",
    "M_rand=10*np.random.random((3,3));\n",
    "\n",
    "grids = []\n",
    "for i in range (3,8):\n",
    "    print(i)\n",
    "    grids.append(bempp.api.shapes.regular_sphere(i))\n",
    "\n",
    "#grid = bempp.api.shapes.rectangle_with_hole(a=1, b=1, hole_radius=0.2, h=.05)\n",
    "\n",
    "spaces = [];\n",
    "for grid in grids:\n",
    "    spaces.append(bempp.api.function_space(grid,\"DP\",0))\n",
    "\n",
    "helmholtz = []   \n",
    "for space in spaces:\n",
    "    helmholtz.append(bempp.api.operators.boundary.helmholtz.double_layer(space,space,space,k))\n",
    "    #print(\"Shape of the matrix: {0}\".format(helmholtz[-1].weak_form().shape))\n",
    "#laplace=bempp.api.operators.boundary.laplace.single_layer(space, space, space)\n",
    "#helmholts_discrete_form=helmholtz.weak_form()\n",
    "#laplace_discrete_form=laplace.weak_form()\n",
    "space = bempp.api.function_space(grids[0],\"DP\",0)\n",
    "helm = bempp.api.operators.potential.helmholtz.single_layer(space,space,space,k)\n",
    "\n",
    "#laplace_discrete=laplace.weak_form()\n",
    "#print(\"Shape of the matrix: {0}\".format(laplace_discrete.shape))\n",
    "#print(\"Shape of the matrix: {0}\".format(helmholts_discrete_form.shape))\n",
    "#print(helmholts_discrete_form)\n",
    "\n",
    "#print(smallest_eigenvalue(laplace))\n",
    "\n"
   ]
  },
  {
   "cell_type": "code",
   "execution_count": 21,
   "metadata": {},
   "outputs": [
    {
     "ename": "KeyboardInterrupt",
     "evalue": "",
     "output_type": "error",
     "traceback": [
      "\u001b[0;31m---------------------------------------------------------------------------\u001b[0m",
      "\u001b[0;31mKeyboardInterrupt\u001b[0m                         Traceback (most recent call last)",
      "\u001b[0;32m<ipython-input-21-55d2588733c8>\u001b[0m in \u001b[0;36m<module>\u001b[0;34m()\u001b[0m\n\u001b[1;32m     10\u001b[0m     \u001b[0mt\u001b[0m \u001b[0;34m=\u001b[0m \u001b[0mTimer\u001b[0m\u001b[0;34m(\u001b[0m\u001b[0;34m)\u001b[0m\u001b[0;34m\u001b[0m\u001b[0m\n\u001b[1;32m     11\u001b[0m     \u001b[0mt\u001b[0m\u001b[0;34m.\u001b[0m\u001b[0mstart\u001b[0m\u001b[0;34m(\u001b[0m\u001b[0;34m)\u001b[0m\u001b[0;34m\u001b[0m\u001b[0m\n\u001b[0;32m---> 12\u001b[0;31m     \u001b[0mpoints1\u001b[0m \u001b[0;34m=\u001b[0m \u001b[0mnp\u001b[0m\u001b[0;34m.\u001b[0m\u001b[0marray\u001b[0m\u001b[0;34m(\u001b[0m\u001b[0msmallest_eigenvalue\u001b[0m\u001b[0;34m(\u001b[0m\u001b[0moperator\u001b[0m\u001b[0;34m)\u001b[0m\u001b[0;34m)\u001b[0m\u001b[0;34m\u001b[0m\u001b[0m\n\u001b[0m\u001b[1;32m     13\u001b[0m     \u001b[0mprint\u001b[0m\u001b[0;34m(\u001b[0m\u001b[0mt\u001b[0m\u001b[0;34m.\u001b[0m\u001b[0mstop\u001b[0m\u001b[0;34m(\u001b[0m\u001b[0;34m)\u001b[0m\u001b[0;34m)\u001b[0m\u001b[0;34m\u001b[0m\u001b[0m\n\u001b[1;32m     14\u001b[0m     \u001b[0mprint\u001b[0m\u001b[0;34m(\u001b[0m\u001b[0mpoints1\u001b[0m\u001b[0;34m)\u001b[0m\u001b[0;34m\u001b[0m\u001b[0m\n",
      "\u001b[0;32m<ipython-input-19-4c461b45a600>\u001b[0m in \u001b[0;36msmallest_eigenvalue\u001b[0;34m(operator, iteration)\u001b[0m\n\u001b[1;32m     32\u001b[0m         \u001b[0mi\u001b[0m \u001b[0;34m+=\u001b[0m \u001b[0;36m1\u001b[0m\u001b[0;34m\u001b[0m\u001b[0m\n\u001b[1;32m     33\u001b[0m         \u001b[0;31m#x = np.linalg.solve(matrix, random_vector)\u001b[0m\u001b[0;34m\u001b[0m\u001b[0;34m\u001b[0m\u001b[0m\n\u001b[0;32m---> 34\u001b[0;31m         \u001b[0mx\u001b[0m\u001b[0;34m,\u001b[0m \u001b[0minfo\u001b[0m \u001b[0;34m=\u001b[0m \u001b[0mspla\u001b[0m\u001b[0;34m.\u001b[0m\u001b[0mgmres\u001b[0m\u001b[0;34m(\u001b[0m\u001b[0mdiscrete_operator\u001b[0m\u001b[0;34m,\u001b[0m \u001b[0mrandom_vector\u001b[0m\u001b[0;34m)\u001b[0m\u001b[0;34m\u001b[0m\u001b[0m\n\u001b[0m\u001b[1;32m     35\u001b[0m         \u001b[0mnorm_vector\u001b[0m \u001b[0;34m=\u001b[0m \u001b[0mnp\u001b[0m\u001b[0;34m.\u001b[0m\u001b[0mlinalg\u001b[0m\u001b[0;34m.\u001b[0m\u001b[0mnorm\u001b[0m\u001b[0;34m(\u001b[0m\u001b[0mx\u001b[0m\u001b[0;34m)\u001b[0m\u001b[0;34m\u001b[0m\u001b[0m\n\u001b[1;32m     36\u001b[0m \u001b[0;34m\u001b[0m\u001b[0m\n",
      "\u001b[0;32m<decorator-gen-6>\u001b[0m in \u001b[0;36mgmres\u001b[0;34m(A, b, x0, tol, restart, maxiter, xtype, M, callback, restrt)\u001b[0m\n",
      "\u001b[0;32m/usr/lib/python3/dist-packages/scipy/sparse/linalg/isolve/iterative.py\u001b[0m in \u001b[0;36mnon_reentrant\u001b[0;34m(func, *a, **kw)\u001b[0m\n\u001b[1;32m     83\u001b[0m     \u001b[0;32mtry\u001b[0m\u001b[0;34m:\u001b[0m\u001b[0;34m\u001b[0m\u001b[0m\n\u001b[1;32m     84\u001b[0m         \u001b[0md\u001b[0m\u001b[0;34m[\u001b[0m\u001b[0;34m'__entered'\u001b[0m\u001b[0;34m]\u001b[0m \u001b[0;34m=\u001b[0m \u001b[0;32mTrue\u001b[0m\u001b[0;34m\u001b[0m\u001b[0m\n\u001b[0;32m---> 85\u001b[0;31m         \u001b[0;32mreturn\u001b[0m \u001b[0mfunc\u001b[0m\u001b[0;34m(\u001b[0m\u001b[0;34m*\u001b[0m\u001b[0ma\u001b[0m\u001b[0;34m,\u001b[0m \u001b[0;34m**\u001b[0m\u001b[0mkw\u001b[0m\u001b[0;34m)\u001b[0m\u001b[0;34m\u001b[0m\u001b[0m\n\u001b[0m\u001b[1;32m     86\u001b[0m     \u001b[0;32mfinally\u001b[0m\u001b[0;34m:\u001b[0m\u001b[0;34m\u001b[0m\u001b[0m\n\u001b[1;32m     87\u001b[0m         \u001b[0md\u001b[0m\u001b[0;34m[\u001b[0m\u001b[0;34m'__entered'\u001b[0m\u001b[0;34m]\u001b[0m \u001b[0;34m=\u001b[0m \u001b[0;32mFalse\u001b[0m\u001b[0;34m\u001b[0m\u001b[0m\n",
      "\u001b[0;32m/usr/lib/python3/dist-packages/scipy/sparse/linalg/isolve/iterative.py\u001b[0m in \u001b[0;36mgmres\u001b[0;34m(A, b, x0, tol, restart, maxiter, xtype, M, callback, restrt)\u001b[0m\n\u001b[1;32m    454\u001b[0m         \u001b[0molditer\u001b[0m \u001b[0;34m=\u001b[0m \u001b[0miter_\u001b[0m\u001b[0;34m\u001b[0m\u001b[0m\n\u001b[1;32m    455\u001b[0m         \u001b[0mx\u001b[0m\u001b[0;34m,\u001b[0m \u001b[0miter_\u001b[0m\u001b[0;34m,\u001b[0m \u001b[0mresid\u001b[0m\u001b[0;34m,\u001b[0m \u001b[0minfo\u001b[0m\u001b[0;34m,\u001b[0m \u001b[0mndx1\u001b[0m\u001b[0;34m,\u001b[0m \u001b[0mndx2\u001b[0m\u001b[0;34m,\u001b[0m \u001b[0msclr1\u001b[0m\u001b[0;34m,\u001b[0m \u001b[0msclr2\u001b[0m\u001b[0;34m,\u001b[0m \u001b[0mijob\u001b[0m \u001b[0;34m=\u001b[0m\u001b[0;31m \u001b[0m\u001b[0;31m\\\u001b[0m\u001b[0;34m\u001b[0m\u001b[0m\n\u001b[0;32m--> 456\u001b[0;31m            \u001b[0mrevcom\u001b[0m\u001b[0;34m(\u001b[0m\u001b[0mb\u001b[0m\u001b[0;34m,\u001b[0m \u001b[0mx\u001b[0m\u001b[0;34m,\u001b[0m \u001b[0mrestrt\u001b[0m\u001b[0;34m,\u001b[0m \u001b[0mwork\u001b[0m\u001b[0;34m,\u001b[0m \u001b[0mwork2\u001b[0m\u001b[0;34m,\u001b[0m \u001b[0miter_\u001b[0m\u001b[0;34m,\u001b[0m \u001b[0mresid\u001b[0m\u001b[0;34m,\u001b[0m \u001b[0minfo\u001b[0m\u001b[0;34m,\u001b[0m \u001b[0mndx1\u001b[0m\u001b[0;34m,\u001b[0m \u001b[0mndx2\u001b[0m\u001b[0;34m,\u001b[0m \u001b[0mijob\u001b[0m\u001b[0;34m)\u001b[0m\u001b[0;34m\u001b[0m\u001b[0m\n\u001b[0m\u001b[1;32m    457\u001b[0m         \u001b[0;31m# if callback is not None and iter_ > olditer:\u001b[0m\u001b[0;34m\u001b[0m\u001b[0;34m\u001b[0m\u001b[0m\n\u001b[1;32m    458\u001b[0m         \u001b[0;31m#    callback(x)\u001b[0m\u001b[0;34m\u001b[0m\u001b[0;34m\u001b[0m\u001b[0m\n",
      "\u001b[0;31mKeyboardInterrupt\u001b[0m: "
     ]
    }
   ],
   "source": [
    "\n",
    "for operator in helmholtz:\n",
    "    t = Timer()\n",
    "    '''t.start()\n",
    "    list = np.linalg.eigvals(bempp.api.as_matrix(operator.weak_form()))\n",
    "    print(t.stop())\n",
    "    print(min(list))\n",
    "    a = min (list)'''\n",
    "\n",
    "    t = Timer()\n",
    "    t.start()\n",
    "    points1 = np.array(smallest_eigenvalue(operator))\n",
    "    print(t.stop())\n",
    "    print(points1)\n",
    "\n",
    "    t = Timer()\n",
    "    t.start()\n",
    "    points2 = np.array(smallest_eigenvalue_inverse(operator))\n",
    "    print(t.stop())\n",
    "    print(points2)\n",
    "#print(smallest_eigenvalue(M))"
   ]
  },
  {
   "cell_type": "code",
   "execution_count": 28,
   "metadata": {},
   "outputs": [
    {
     "name": "stdout",
     "output_type": "stream",
     "text": [
      "([7.0243200695103565e-06], 435)\n",
      "7.02432089226e-06\n"
     ]
    }
   ],
   "source": [
    "list = np.linalg.eigvals(bempp.api.as_matrix(helmholtz[0].weak_form()))\n",
    "print(smallest_eigenvalue_inverse(helmholtz[0]))\n",
    "\n",
    "print(min(np.abs(list)))"
   ]
  },
  {
   "cell_type": "code",
   "execution_count": 10,
   "metadata": {},
   "outputs": [
    {
     "ename": "MemoryError",
     "evalue": "",
     "output_type": "error",
     "traceback": [
      "\u001b[0;31m---------------------------------------------------------------------------\u001b[0m",
      "\u001b[0;31mMemoryError\u001b[0m                               Traceback (most recent call last)",
      "\u001b[0;32m<ipython-input-10-c2e4c5a2743b>\u001b[0m in \u001b[0;36m<module>\u001b[0;34m()\u001b[0m\n\u001b[1;32m      1\u001b[0m \u001b[0mt\u001b[0m \u001b[0;34m=\u001b[0m \u001b[0mTimer\u001b[0m\u001b[0;34m(\u001b[0m\u001b[0;34m)\u001b[0m\u001b[0;34m\u001b[0m\u001b[0m\n\u001b[1;32m      2\u001b[0m \u001b[0mt\u001b[0m\u001b[0;34m.\u001b[0m\u001b[0mstart\u001b[0m\u001b[0;34m(\u001b[0m\u001b[0;34m)\u001b[0m\u001b[0;34m\u001b[0m\u001b[0m\n\u001b[0;32m----> 3\u001b[0;31m \u001b[0mpoints2\u001b[0m \u001b[0;34m=\u001b[0m \u001b[0mnp\u001b[0m\u001b[0;34m.\u001b[0m\u001b[0marray\u001b[0m\u001b[0;34m(\u001b[0m\u001b[0msmallest_eigenvalue\u001b[0m\u001b[0;34m(\u001b[0m\u001b[0mhelmholtz\u001b[0m\u001b[0;34m[\u001b[0m\u001b[0;36m3\u001b[0m\u001b[0;34m]\u001b[0m\u001b[0;34m)\u001b[0m\u001b[0;34m)\u001b[0m\u001b[0;34m\u001b[0m\u001b[0m\n\u001b[0m\u001b[1;32m      4\u001b[0m \u001b[0mprint\u001b[0m\u001b[0;34m(\u001b[0m\u001b[0mt\u001b[0m\u001b[0;34m.\u001b[0m\u001b[0mstop\u001b[0m\u001b[0;34m(\u001b[0m\u001b[0;34m)\u001b[0m\u001b[0;34m)\u001b[0m\u001b[0;34m\u001b[0m\u001b[0m\n\u001b[1;32m      5\u001b[0m \u001b[0mprint\u001b[0m\u001b[0;34m(\u001b[0m\u001b[0mpoints2\u001b[0m\u001b[0;34m)\u001b[0m\u001b[0;34m\u001b[0m\u001b[0m\n",
      "\u001b[0;32m<ipython-input-3-926155cb65aa>\u001b[0m in \u001b[0;36msmallest_eigenvalue\u001b[0;34m(operator, iteration)\u001b[0m\n\u001b[1;32m     40\u001b[0m             \u001b[0;32mreturn\u001b[0m \u001b[0;36m0\u001b[0m\u001b[0;34m;\u001b[0m\u001b[0;34m\u001b[0m\u001b[0m\n\u001b[1;32m     41\u001b[0m \u001b[0;34m\u001b[0m\u001b[0m\n\u001b[0;32m---> 42\u001b[0;31m         \u001b[0mdifference\u001b[0m \u001b[0;34m=\u001b[0m \u001b[0mnp\u001b[0m\u001b[0;34m.\u001b[0m\u001b[0mlinalg\u001b[0m\u001b[0;34m.\u001b[0m\u001b[0mnorm\u001b[0m\u001b[0;34m(\u001b[0m\u001b[0mx\u001b[0m\u001b[0;34m-\u001b[0m\u001b[0mrandom_vector\u001b[0m\u001b[0;34m)\u001b[0m\u001b[0;34m\u001b[0m\u001b[0m\n\u001b[0m\u001b[1;32m     43\u001b[0m         \u001b[0mrandom_vector\u001b[0m \u001b[0;34m=\u001b[0m \u001b[0mx\u001b[0m\u001b[0;34m\u001b[0m\u001b[0m\n\u001b[1;32m     44\u001b[0m \u001b[0;34m\u001b[0m\u001b[0m\n",
      "\u001b[0;31mMemoryError\u001b[0m: "
     ]
    }
   ],
   "source": [
    "t = Timer()\n",
    "t.start()\n",
    "points2 = np.array(smallest_eigenvalue(helmholtz[3]))\n",
    "print(t.stop())\n",
    "print(points2)"
   ]
  },
  {
   "cell_type": "markdown",
   "metadata": {},
   "source": [
    "\n",
    "a_15 = round(a.real, 15)\n",
    "print(a_5)\n",
    "print(a.real)\n",
    "from matplotlib import pyplot as plt\n",
    "koraci = [10, 13, 15, 17, 20, 25, 30, 40, 50, 60, 70, 80, 100, 120 ,150]\n",
    "\n",
    "plt.plot(koraci, points1 , 'r')\n",
    "plt.plot(koraci, points2 , 'b')\n",
    "plt.axis([0 , 50, 0 , 0.0000001])\n",
    "plt.show()\n"
   ]
  },
  {
   "cell_type": "code",
   "execution_count": 216,
   "metadata": {
    "collapsed": true
   },
   "outputs": [],
   "source": [
    "k = 10\n",
    "space=  bempp.api.function_space(grid,\"DP\",0)\n",
    "piecewise_const_space = space\n",
    "\n",
    "identity = bempp.api.operators.boundary.sparse.identity(\n",
    "    piecewise_const_space, piecewise_const_space, piecewise_const_space)\n",
    "adlp = bempp.api.operators.boundary.helmholtz.adjoint_double_layer(\n",
    "    piecewise_const_space, piecewise_const_space, piecewise_const_space, k)\n",
    "slp = bempp.api.operators.boundary.helmholtz.single_layer(\n",
    "    piecewise_const_space, piecewise_const_space, piecewise_const_space, k)\n",
    "\n",
    "lhs = 0.5*identity+adlp-1j*k*slp\n"
   ]
  },
  {
   "cell_type": "code",
   "execution_count": 228,
   "metadata": {},
   "outputs": [
    {
     "name": "stdout",
     "output_type": "stream",
     "text": [
      "[ 0.0002659   0.0002556   0.0002547   0.00025425  0.00025409  0.00025409\n",
      "  0.00025408  0.00025405  0.00025403  0.00025403  0.00025403  0.00025403\n",
      "  0.00025403  0.00025403  0.00025403]\n"
     ]
    }
   ],
   "source": [
    "points1 = np.array(smallest_eigenvalue(lhs, True))\n",
    "print(points1)"
   ]
  },
  {
   "cell_type": "code",
   "execution_count": 222,
   "metadata": {},
   "outputs": [
    {
     "name": "stdout",
     "output_type": "stream",
     "text": [
      "(0.000253343920855-1.8623092531e-05j)\n"
     ]
    }
   ],
   "source": [
    "list = np.linalg.eigvals(bempp.api.as_matrix(lhs.weak_form()))\n",
    "print(min(list))"
   ]
  },
  {
   "cell_type": "code",
   "execution_count": 226,
   "metadata": {},
   "outputs": [
    {
     "name": "stdout",
     "output_type": "stream",
     "text": [
      "[ 0.00026988  0.00026166  0.00025714  0.00025501  0.00025441  0.00025422\n",
      "  0.00025412  0.00025405  0.00025403  0.00025403  0.00025403  0.00025403\n",
      "  0.00025403  0.00025403  0.00025403]\n"
     ]
    }
   ],
   "source": [
    "points2 = np.array(smallest_eigenvalue_inverse(lhs, True))\n",
    "print(points2)"
   ]
  },
  {
   "cell_type": "code",
   "execution_count": 203,
   "metadata": {},
   "outputs": [
    {
     "data": {
      "image/png": "[encoded data removed]",
      "text/plain": [
       "<matplotlib.figure.Figure at 0x7f4f5fb3a978>"
      ]
     },
     "metadata": {},
     "output_type": "display_data"
    }
   ],
   "source": [
    "from matplotlib import pyplot as plt\n",
    "koraci = [10, 13, 15, 17, 20, 25, 30, 40, 50, 60, 70, 80, 100, 120 ,150]\n",
    "\n",
    "plt.plot(koraci, points1 , 'r')\n",
    "plt.plot(koraci, points2 , 'b')\n",
    "plt.axis([0 , 150, 0.000245 , 0.00026])\n",
    "plt.show()"
   ]
  },
  {
   "cell_type": "code",
   "execution_count": null,
   "metadata": {
    "collapsed": true
   },
   "outputs": [],
   "source": []
  }
 ],
 "metadata": {
  "kernelspec": {
   "display_name": "Python 3",
   "language": "python",
   "name": "python3"
  },
  "language_info": {
   "codemirror_mode": {
    "name": "ipython",
    "version": 3
   },
   "file_extension": ".py",
   "mimetype": "text/x-python",
   "name": "python",
   "nbconvert_exporter": "python",
   "pygments_lexer": "ipython3",
   "version": "3.5.2"
  }
 },
 "nbformat": 4,
 "nbformat_minor": 2
}
