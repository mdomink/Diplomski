{
 "cells": [
  {
   "cell_type": "code",
   "execution_count": null,
   "metadata": {},
   "outputs": [
    {
     "name": "stdout",
     "output_type": "stream",
     "text": [
      "[[3 2 0]\n",
      " [0 1 1]\n",
      " [0 1 2]]\n",
      "\n",
      " 0.381976631727\n",
      "[ 3.          0.38196601  2.61803399]\n"
     ]
    }
   ],
   "source": [
    "import numpy as np\n",
    "    \n",
    "import bempp.api\n",
    "#from bempp.api.linalg.iterative_solvers import gmres\n",
    "from scipy.sparse.linalg import gmres \n",
    "from scipy.sparse.linalg import norm\n",
    "bempp.api.PLOT_BACKEND = \"ipython_notebook\"\n",
    "from eigenvalue import smallest_eigenvalue\n",
    "#grid = bempp.api.shapes.regular_sphere(3)\n",
    "#grid.plot()\n",
    "\n",
    "def fun(x, normal, domain_index, result):    \n",
    "    result[0] =np.exp(1j*x[0])\n",
    "    \n",
    "#def fun_helmholtz(x,normal, domain_index, result):\n",
    "#    result[0]= \n",
    "\n",
    "\n",
    "#grid = bempp.api.shapes.regular_sphere(5)\n",
    "#space = bempp.api.function_space(grid, \"DP\", 1)\n",
    "    \n",
    "M=np.matrix([[3,2,0],[0,1,1],[0,1,2]]); #test matrica\n",
    "\n",
    "#grid=bempp.api.shapes.regular_sphere(3)\n",
    "grid=bempp.api.shapes.sphere(1,(3,3,3),0.1)\n",
    "help(bempp.api.shapes)\n",
    "space=bempp.api.function_space(grid,\"DP\",0)\n",
    "A=bempp.api.operators.boundary.laplace.single_layer(space,space,space)\n",
    "A.domain\n",
    "A_discrete=A.weak_form()\n",
    "print(\"Shape of the matrix: {0}\".format(A_discrete.shape))\n",
    "\n",
    "grid_fun = bempp.api.GridFunction(space, fun=fun)\n",
    "grid_fun.plot()\n",
    "\n",
    "#print(smallest_eigenvalue(M))\n",
    "#M=bempp.api.as_matrix(A.weak_form())\n",
    "#print(np.linalg.eigvals(M))"
   ]
  },
  {
   "cell_type": "code",
   "execution_count": null,
   "metadata": {
    "collapsed": true
   },
   "outputs": [],
   "source": []
  },
  {
   "cell_type": "code",
   "execution_count": null,
   "metadata": {
    "collapsed": true
   },
   "outputs": [],
   "source": []
  }
 ],
 "metadata": {
  "kernelspec": {
   "display_name": "Python 3",
   "language": "python",
   "name": "python3"
  },
  "language_info": {
   "codemirror_mode": {
    "name": "ipython",
    "version": 3
   },
   "file_extension": ".py",
   "mimetype": "text/x-python",
   "name": "python",
   "nbconvert_exporter": "python",
   "pygments_lexer": "ipython3",
   "version": "3.5.2"
  }
 },
 "nbformat": 4,
 "nbformat_minor": 2
}
