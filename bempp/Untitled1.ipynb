{
 "cells": [
  {
   "cell_type": "code",
   "execution_count": 6,
   "metadata": {
    "scrolled": true
   },
   "outputs": [
    {
     "data": {
      "application/vnd.jupyter.widget-view+json": {
       "model_id": "7766428be65547b4b537bc41b85f3d0b",
       "version_major": 2,
       "version_minor": 0
      },
      "text/plain": [
       "A Jupyter Widget"
      ]
     },
     "metadata": {},
     "output_type": "display_data"
    },
    {
     "data": {
      "application/vnd.jupyter.widget-view+json": {
       "model_id": "b55df397ed4b4f50951afe66ad226508",
       "version_major": 2,
       "version_minor": 0
      },
      "text/plain": [
       "A Jupyter Widget"
      ]
     },
     "metadata": {},
     "output_type": "display_data"
    },
    {
     "data": {
      "application/vnd.jupyter.widget-view+json": {
       "model_id": "7588154f5aa64139a33ad2012fe2c3a2",
       "version_major": 2,
       "version_minor": 0
      },
      "text/plain": [
       "A Jupyter Widget"
      ]
     },
     "metadata": {},
     "output_type": "display_data"
    }
   ],
   "source": [
    "import bempp.api\n",
    "bempp.api.set_ipython_notebook_viewer()\n",
    "import numpy as np\n",
    "import eigenvalue\n",
    "\n",
    "grids = []\n",
    "for i in range (3,8):\n",
    "    #print(i)\n",
    "    grids.append(bempp.api.shapes.regular_sphere(i))\n",
    "\n",
    "#grid = bempp.api.shapes.rectangle_with_hole(a=1, b=1, hole_radius=0.2, h=.05)\n",
    "\n",
    "k = 10\n",
    "spaces = [];\n",
    "for grid in grids:\n",
    "    spaces.append(bempp.api.function_space(grid,\"DP\",0))\n",
    "\n",
    "helmholtz = []   \n",
    "for space in spaces:\n",
    "    helmholtz.append(bempp.api.operators.boundary.helmholtz.single_layer(space,space,space,k))\n",
    "\n",
    "#print(eigenvalue.smallest_eigenvalue(helmholtz[0]))\n",
    "grids[0].plot()\n",
    "\n",
    "\n",
    "\n",
    "           "
   ]
  },
  {
   "cell_type": "code",
   "execution_count": null,
   "metadata": {
    "collapsed": true
   },
   "outputs": [],
   "source": []
  },
  {
   "cell_type": "code",
   "execution_count": null,
   "metadata": {
    "collapsed": true
   },
   "outputs": [],
   "source": []
  }
 ],
 "metadata": {
  "kernelspec": {
   "display_name": "Python 3",
   "language": "python",
   "name": "python3"
  },
  "language_info": {
   "codemirror_mode": {
    "name": "ipython",
    "version": 3
   },
   "file_extension": ".py",
   "mimetype": "text/x-python",
   "name": "python",
   "nbconvert_exporter": "python",
   "pygments_lexer": "ipython3",
   "version": "3.5.2"
  }
 },
 "nbformat": 4,
 "nbformat_minor": 2
}
