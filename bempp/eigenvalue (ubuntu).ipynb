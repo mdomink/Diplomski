{
 "cells": [
  {
   "cell_type": "code",
   "execution_count": 1,
   "metadata": {},
   "outputs": [
    {
     "name": "stdout",
     "output_type": "stream",
     "text": [
      "[[3 2 0]\n",
      " [0 1 1]\n",
      " [0 1 2]]\n",
      "\n",
      " 0.381964141129\n",
      "\n",
      " [ 3.          0.38196601  2.61803399]\n",
      "[ -5.25033998  14.04266078   4.24185302]\n"
     ]
    }
   ],
   "source": [
    "import bempp.api\n",
    "from bempp.api.linalg.iterative_solvers import gmres\n",
    "bempp.api.set_ipython_notebook_viewer()\n",
    "import numpy as np\n",
    "\n",
    "def smallest_eigenvalue(A):\n",
    "    #A=np.linalg.inv(A);\n",
    "    print(A)\n",
    "    v=5*np.random.rand(np.shape(A)[0],1);\n",
    "    dif=1;\n",
    "    w=1;\n",
    "    v=v/np.linalg.norm(v)\n",
    "    e=0.0001;                  \n",
    "    \n",
    "    while(dif>=e):\n",
    "        x=np.linalg.solve(A,v)\n",
    "        w=np.linalg.norm(x)\n",
    "        if(w!=0):\n",
    "            x=x/w\n",
    "        else:\n",
    "            return 0;\n",
    "        dif=np.linalg.norm(x-v) \n",
    "        #print(v,x,\"\\n\")\n",
    "        v=x\n",
    "    \n",
    "    return 1/w\n",
    "    \n",
    "M=np.matrix([[3,2,0],[0,1,1],[0,1,2]]); #test matrica\n",
    "M_rand=10*np.random.random((3,3));\n",
    "\n",
    "\n",
    "print(\"\\n\",smallest_eigenvalue(M))\n",
    "print(\"\\n\",np.linalg.eigvals(M))\n",
    "#print(\"\\n\",smallest_eigenvalue(M_rand))\n",
    "print(np.linalg.eigvals(M_rand))"
   ]
  },
  {
   "cell_type": "code",
   "execution_count": null,
   "metadata": {
    "collapsed": true
   },
   "outputs": [],
   "source": []
  },
  {
   "cell_type": "code",
   "execution_count": null,
   "metadata": {
    "collapsed": true
   },
   "outputs": [],
   "source": []
  }
 ],
 "metadata": {
  "kernelspec": {
   "display_name": "Python 3",
   "language": "python",
   "name": "python3"
  },
  "language_info": {
   "codemirror_mode": {
    "name": "ipython",
    "version": 3
   },
   "file_extension": ".py",
   "mimetype": "text/x-python",
   "name": "python",
   "nbconvert_exporter": "python",
   "pygments_lexer": "ipython3",
   "version": "3.6.5"
  }
 },
 "nbformat": 4,
 "nbformat_minor": 2
}
